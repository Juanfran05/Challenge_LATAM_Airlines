{
 "cells": [
  {
   "cell_type": "code",
   "execution_count": 1,
   "metadata": {},
   "outputs": [],
   "source": [
    "import pandas as pd\n",
    "import re"
   ]
  },
  {
   "attachments": {},
   "cell_type": "markdown",
   "metadata": {},
   "source": [
    "# Importación de datos"
   ]
  },
  {
   "cell_type": "code",
   "execution_count": 2,
   "metadata": {},
   "outputs": [
    {
     "name": "stderr",
     "output_type": "stream",
     "text": [
      "c:\\Users\\juanf\\anaconda3\\lib\\site-packages\\IPython\\core\\interactiveshell.py:3146: DtypeWarning: Columns (1,6) have mixed types.Specify dtype option on import or set low_memory=False.\n",
      "  has_raised = await self.run_ast_nodes(code_ast.body, cell_name,\n"
     ]
    }
   ],
   "source": [
    "df = pd.read_csv(\"data/dataset_SCL.csv\")"
   ]
  },
  {
   "cell_type": "code",
   "execution_count": 3,
   "metadata": {},
   "outputs": [
    {
     "data": {
      "text/html": [
       "<div>\n",
       "<style scoped>\n",
       "    .dataframe tbody tr th:only-of-type {\n",
       "        vertical-align: middle;\n",
       "    }\n",
       "\n",
       "    .dataframe tbody tr th {\n",
       "        vertical-align: top;\n",
       "    }\n",
       "\n",
       "    .dataframe thead th {\n",
       "        text-align: right;\n",
       "    }\n",
       "</style>\n",
       "<table border=\"1\" class=\"dataframe\">\n",
       "  <thead>\n",
       "    <tr style=\"text-align: right;\">\n",
       "      <th></th>\n",
       "      <th>Fecha-I</th>\n",
       "      <th>Vlo-I</th>\n",
       "      <th>Ori-I</th>\n",
       "      <th>Des-I</th>\n",
       "      <th>Emp-I</th>\n",
       "      <th>Fecha-O</th>\n",
       "      <th>Vlo-O</th>\n",
       "      <th>Ori-O</th>\n",
       "      <th>Des-O</th>\n",
       "      <th>Emp-O</th>\n",
       "      <th>DIA</th>\n",
       "      <th>MES</th>\n",
       "      <th>AÑO</th>\n",
       "      <th>DIANOM</th>\n",
       "      <th>TIPOVUELO</th>\n",
       "      <th>OPERA</th>\n",
       "      <th>SIGLAORI</th>\n",
       "      <th>SIGLADES</th>\n",
       "    </tr>\n",
       "  </thead>\n",
       "  <tbody>\n",
       "    <tr>\n",
       "      <th>0</th>\n",
       "      <td>2017-01-01 23:30:00</td>\n",
       "      <td>226</td>\n",
       "      <td>SCEL</td>\n",
       "      <td>KMIA</td>\n",
       "      <td>AAL</td>\n",
       "      <td>2017-01-01 23:33:00</td>\n",
       "      <td>226</td>\n",
       "      <td>SCEL</td>\n",
       "      <td>KMIA</td>\n",
       "      <td>AAL</td>\n",
       "      <td>1</td>\n",
       "      <td>1</td>\n",
       "      <td>2017</td>\n",
       "      <td>Domingo</td>\n",
       "      <td>I</td>\n",
       "      <td>American Airlines</td>\n",
       "      <td>Santiago</td>\n",
       "      <td>Miami</td>\n",
       "    </tr>\n",
       "    <tr>\n",
       "      <th>1</th>\n",
       "      <td>2017-01-02 23:30:00</td>\n",
       "      <td>226</td>\n",
       "      <td>SCEL</td>\n",
       "      <td>KMIA</td>\n",
       "      <td>AAL</td>\n",
       "      <td>2017-01-02 23:39:00</td>\n",
       "      <td>226</td>\n",
       "      <td>SCEL</td>\n",
       "      <td>KMIA</td>\n",
       "      <td>AAL</td>\n",
       "      <td>2</td>\n",
       "      <td>1</td>\n",
       "      <td>2017</td>\n",
       "      <td>Lunes</td>\n",
       "      <td>I</td>\n",
       "      <td>American Airlines</td>\n",
       "      <td>Santiago</td>\n",
       "      <td>Miami</td>\n",
       "    </tr>\n",
       "    <tr>\n",
       "      <th>2</th>\n",
       "      <td>2017-01-03 23:30:00</td>\n",
       "      <td>226</td>\n",
       "      <td>SCEL</td>\n",
       "      <td>KMIA</td>\n",
       "      <td>AAL</td>\n",
       "      <td>2017-01-03 23:39:00</td>\n",
       "      <td>226</td>\n",
       "      <td>SCEL</td>\n",
       "      <td>KMIA</td>\n",
       "      <td>AAL</td>\n",
       "      <td>3</td>\n",
       "      <td>1</td>\n",
       "      <td>2017</td>\n",
       "      <td>Martes</td>\n",
       "      <td>I</td>\n",
       "      <td>American Airlines</td>\n",
       "      <td>Santiago</td>\n",
       "      <td>Miami</td>\n",
       "    </tr>\n",
       "    <tr>\n",
       "      <th>3</th>\n",
       "      <td>2017-01-04 23:30:00</td>\n",
       "      <td>226</td>\n",
       "      <td>SCEL</td>\n",
       "      <td>KMIA</td>\n",
       "      <td>AAL</td>\n",
       "      <td>2017-01-04 23:33:00</td>\n",
       "      <td>226</td>\n",
       "      <td>SCEL</td>\n",
       "      <td>KMIA</td>\n",
       "      <td>AAL</td>\n",
       "      <td>4</td>\n",
       "      <td>1</td>\n",
       "      <td>2017</td>\n",
       "      <td>Miercoles</td>\n",
       "      <td>I</td>\n",
       "      <td>American Airlines</td>\n",
       "      <td>Santiago</td>\n",
       "      <td>Miami</td>\n",
       "    </tr>\n",
       "    <tr>\n",
       "      <th>4</th>\n",
       "      <td>2017-01-05 23:30:00</td>\n",
       "      <td>226</td>\n",
       "      <td>SCEL</td>\n",
       "      <td>KMIA</td>\n",
       "      <td>AAL</td>\n",
       "      <td>2017-01-05 23:28:00</td>\n",
       "      <td>226</td>\n",
       "      <td>SCEL</td>\n",
       "      <td>KMIA</td>\n",
       "      <td>AAL</td>\n",
       "      <td>5</td>\n",
       "      <td>1</td>\n",
       "      <td>2017</td>\n",
       "      <td>Jueves</td>\n",
       "      <td>I</td>\n",
       "      <td>American Airlines</td>\n",
       "      <td>Santiago</td>\n",
       "      <td>Miami</td>\n",
       "    </tr>\n",
       "  </tbody>\n",
       "</table>\n",
       "</div>"
      ],
      "text/plain": [
       "               Fecha-I Vlo-I Ori-I Des-I Emp-I              Fecha-O Vlo-O  \\\n",
       "0  2017-01-01 23:30:00   226  SCEL  KMIA   AAL  2017-01-01 23:33:00   226   \n",
       "1  2017-01-02 23:30:00   226  SCEL  KMIA   AAL  2017-01-02 23:39:00   226   \n",
       "2  2017-01-03 23:30:00   226  SCEL  KMIA   AAL  2017-01-03 23:39:00   226   \n",
       "3  2017-01-04 23:30:00   226  SCEL  KMIA   AAL  2017-01-04 23:33:00   226   \n",
       "4  2017-01-05 23:30:00   226  SCEL  KMIA   AAL  2017-01-05 23:28:00   226   \n",
       "\n",
       "  Ori-O Des-O Emp-O  DIA  MES   AÑO     DIANOM TIPOVUELO              OPERA  \\\n",
       "0  SCEL  KMIA   AAL    1    1  2017    Domingo         I  American Airlines   \n",
       "1  SCEL  KMIA   AAL    2    1  2017      Lunes         I  American Airlines   \n",
       "2  SCEL  KMIA   AAL    3    1  2017     Martes         I  American Airlines   \n",
       "3  SCEL  KMIA   AAL    4    1  2017  Miercoles         I  American Airlines   \n",
       "4  SCEL  KMIA   AAL    5    1  2017     Jueves         I  American Airlines   \n",
       "\n",
       "   SIGLAORI SIGLADES  \n",
       "0  Santiago    Miami  \n",
       "1  Santiago    Miami  \n",
       "2  Santiago    Miami  \n",
       "3  Santiago    Miami  \n",
       "4  Santiago    Miami  "
      ]
     },
     "execution_count": 3,
     "metadata": {},
     "output_type": "execute_result"
    }
   ],
   "source": [
    "df.head()"
   ]
  },
  {
   "attachments": {},
   "cell_type": "markdown",
   "metadata": {},
   "source": [
    "- Fecha-I : Fecha y hora programada del vuelo.\n",
    "- Vlo-I : Número de vuelo programado.\n",
    "- Ori-I : Código de ciudad de origen programado.\n",
    "- Des-I : Código de ciudad de destino programado.\n",
    "- Emp-I : Código aerolínea de vuelo programado.\n",
    "- Fecha-O : Fecha y hora de operación del vuelo.\n",
    "- Vlo-O : Número de vuelo de operación del vuelo.\n",
    "- Ori-O : Código de ciudad de origen de operación\n",
    "- Des-O : Código de ciudad de destino de operación.\n",
    "- Emp-O : Código aerolínea de vuelo operado.\n",
    "- DIA : Día del mes de operación del vuelo.\n",
    "- MES : Número de mes de operación del vuelo.\n",
    "- AÑO : Año de operación del vuelo.\n",
    "- DIANOM : Día de la semana de operación del vuelo.\n",
    "- TIPOVUELO : Tipo de vuelo, I =Internacional, N =Nacional.\n",
    "- OPERA : Nombre de aerolínea que opera.\n",
    "- SIGLAORI : Nombre ciudad origen.\n",
    "- SIGLADES : Nombre ciudad destino."
   ]
  },
  {
   "cell_type": "code",
   "execution_count": 4,
   "metadata": {},
   "outputs": [
    {
     "name": "stdout",
     "output_type": "stream",
     "text": [
      "<class 'pandas.core.frame.DataFrame'>\n",
      "RangeIndex: 68206 entries, 0 to 68205\n",
      "Data columns (total 18 columns):\n",
      " #   Column     Non-Null Count  Dtype \n",
      "---  ------     --------------  ----- \n",
      " 0   Fecha-I    68206 non-null  object\n",
      " 1   Vlo-I      68206 non-null  object\n",
      " 2   Ori-I      68206 non-null  object\n",
      " 3   Des-I      68206 non-null  object\n",
      " 4   Emp-I      68206 non-null  object\n",
      " 5   Fecha-O    68206 non-null  object\n",
      " 6   Vlo-O      68205 non-null  object\n",
      " 7   Ori-O      68206 non-null  object\n",
      " 8   Des-O      68206 non-null  object\n",
      " 9   Emp-O      68206 non-null  object\n",
      " 10  DIA        68206 non-null  int64 \n",
      " 11  MES        68206 non-null  int64 \n",
      " 12  AÑO        68206 non-null  int64 \n",
      " 13  DIANOM     68206 non-null  object\n",
      " 14  TIPOVUELO  68206 non-null  object\n",
      " 15  OPERA      68206 non-null  object\n",
      " 16  SIGLAORI   68206 non-null  object\n",
      " 17  SIGLADES   68206 non-null  object\n",
      "dtypes: int64(3), object(15)\n",
      "memory usage: 9.4+ MB\n"
     ]
    }
   ],
   "source": [
    "df.info()"
   ]
  },
  {
   "attachments": {},
   "cell_type": "markdown",
   "metadata": {},
   "source": [
    "# APUNTES\n",
    "\n",
    "- En el reporte generado se encontró lo siguiente:\n",
    "    - Las dos columnas de fecha no tienen el formarto correcto\n",
    "    - Las columnas Vlo-I y Vlo-O tienen la etiqueta \"not support\" por lo que tienen problemas. Se revisará y corregirá\n",
    "    - Las columnas Ori-O, Ori-I y SIGLAORI son columnas con valor constante.\n",
    "        - Ori-O : \"SCEL\"\n",
    "        - Ori-I : \"SCEL\"\n",
    "        - SIGLAORI : \"Santiago\"\n"
   ]
  },
  {
   "attachments": {},
   "cell_type": "markdown",
   "metadata": {},
   "source": [
    "# PREPROCESAMIENTO - LIMPIEZA"
   ]
  },
  {
   "cell_type": "code",
   "execution_count": 5,
   "metadata": {},
   "outputs": [],
   "source": [
    "# FORMATEO DE FECHA\n",
    "datetime_format = \"%Y-%m-%d %H:%M:%S\"\n",
    "df[\"Fecha-I\"] = pd.to_datetime(df[\"Fecha-I\"], format=datetime_format)\n",
    "df[\"Fecha-O\"] = pd.to_datetime(df[\"Fecha-O\"], format=datetime_format)"
   ]
  },
  {
   "cell_type": "code",
   "execution_count": 6,
   "metadata": {},
   "outputs": [
    {
     "name": "stdout",
     "output_type": "stream",
     "text": [
      "<class 'pandas.core.frame.DataFrame'>\n",
      "RangeIndex: 68206 entries, 0 to 68205\n",
      "Data columns (total 18 columns):\n",
      " #   Column     Non-Null Count  Dtype         \n",
      "---  ------     --------------  -----         \n",
      " 0   Fecha-I    68206 non-null  datetime64[ns]\n",
      " 1   Vlo-I      68206 non-null  object        \n",
      " 2   Ori-I      68206 non-null  object        \n",
      " 3   Des-I      68206 non-null  object        \n",
      " 4   Emp-I      68206 non-null  object        \n",
      " 5   Fecha-O    68206 non-null  datetime64[ns]\n",
      " 6   Vlo-O      68205 non-null  object        \n",
      " 7   Ori-O      68206 non-null  object        \n",
      " 8   Des-O      68206 non-null  object        \n",
      " 9   Emp-O      68206 non-null  object        \n",
      " 10  DIA        68206 non-null  int64         \n",
      " 11  MES        68206 non-null  int64         \n",
      " 12  AÑO        68206 non-null  int64         \n",
      " 13  DIANOM     68206 non-null  object        \n",
      " 14  TIPOVUELO  68206 non-null  object        \n",
      " 15  OPERA      68206 non-null  object        \n",
      " 16  SIGLAORI   68206 non-null  object        \n",
      " 17  SIGLADES   68206 non-null  object        \n",
      "dtypes: datetime64[ns](2), int64(3), object(13)\n",
      "memory usage: 9.4+ MB\n"
     ]
    }
   ],
   "source": [
    "df.info()"
   ]
  },
  {
   "attachments": {},
   "cell_type": "markdown",
   "metadata": {},
   "source": [
    "\"Vlo-I\" tiene problemas con letras mezcladas con los dígitos"
   ]
  },
  {
   "cell_type": "code",
   "execution_count": 7,
   "metadata": {},
   "outputs": [
    {
     "data": {
      "text/plain": [
       "array([ 226,  912,  940,   92,   93,  401,   11, 1011, 1281, 1283, 1285,\n",
       "       1287, 1289, 1291, 2291,   98,  116,  176,  240,  295,  689,  250,\n",
       "        112,  118,  174,  249,  276,  495, 4495,  146, 7661, 7663, 9245,\n",
       "       9268, 9362, 6830,  702,  624,   28,  846,  709,  741, 8021, 8023,\n",
       "       8027, 8029, 8069, 8073, 8075, 8099, 8125, 8137, 8160, 8161, 9601,\n",
       "       9615, 9651, 9653, 9661, 9689, 9782, 9623,    1,    3,    7,    9,\n",
       "         13,   15,   17,   21,   23,   25,   41,   43,   51,   53,   55,\n",
       "         61,   71,   73,   75,   81,   83,  102,  104,  106,  108,  110,\n",
       "        120,  122,  128,  130,  132,  134,  140,  142,  150,  156,  160,\n",
       "        162,  164,  166,  170,  172,  180,  182,  184,  186,  188,  190,\n",
       "        192,  194,  196,  501,  503,  507,  521,  531,  551,  800,  802,\n",
       "        804, 1083,   14,   31,   35,   37,   57,   65,   67,   69,   89,\n",
       "         91,   97,  114,  124,  126,  136,  138,  144,  148,  152,  154,\n",
       "        168,  178,  201,  203,  207,  209,  211,  213,  215,  217,  219,\n",
       "        221,  231,  233,  235,  237,  239,  241,  247,  251,  257,  259,\n",
       "        261,  263,  265,  267,  269,  271,  273,  275,  277,  279,  281,\n",
       "        283,  285,  287,  289,  291,  293,  297,  300,  302,  304,  306,\n",
       "        308,  312,  314,  318,  320,  322,  324,  326,  328,  330,  332,\n",
       "        334,  336,  338,  340,  342,  344,  346,  348,  350,  366,  374,\n",
       "        380,  382,  384,  386,  388,  396,  403,  405,  439,  443,  445,\n",
       "        449,  451,  455,  461,  481,  500,  502,  504,  510,  530,  532,\n",
       "        534,  546,  572,  574,  576,  582,  592,  600,  602,  622,  632,\n",
       "        642,  646,  648,  650,  704,  708,  750,  752,  760,  772,  776,\n",
       "        778,  798,  801,  833,  841,  843,  845,  849,  900,  902,  906,\n",
       "        910,  930,  932,  934,  942,  952,  954,  968,  970,  972,  986,\n",
       "        988,  991,  993, 1320, 1322, 1326, 1334, 1357, 1359, 1446, 1498,\n",
       "       2632, 2636, 2638, 2640, 2650, 2702, 4501, 4503, 1003, 1004, 1005,\n",
       "       1302, 1340,  200,  700, 1704,   33,   59,   95,  243,  634, 1200,\n",
       "       1202, 1300, 1071,   99,  158,  198,  205,  376,  378,  404,  406,\n",
       "        410,  414,  430,  432,  434,  438,  486,  492,  536,  638,  640,\n",
       "        644,  864,  890,  892, 1122, 1126, 1151, 1363, 1946, 2370, 2372,\n",
       "       2374, 7811, 7813, 1165, 1301, 1351, 1906,  204, 9625, 8665, 4950,\n",
       "         45,  100,  523, 1025, 4000,   63,  352,  354,  452,  460,  636,\n",
       "        674,  888,  895,  897, 1108, 1124, 1128, 1236, 1248, 2364, 2366,\n",
       "       2378, 2474, 2478, 1050, 1051, 1052, 1061, 1101, 1102, 1104, 1130,\n",
       "       1159, 1230,  202,  989, 3000, 9000,  459,  483, 1114, 1168, 1238,\n",
       "       1239, 1261, 1107, 1140, 1167, 1271, 1031, 1700, 9659, 1551, 1800,\n",
       "        358, 1103, 1111, 2518, 7959,  400,  402, 2297, 9244, 9246, 9247,\n",
       "       9261, 9272, 9673, 9956, 9600, 9629, 9662, 9701, 9955,    5,   77,\n",
       "        553,  316,  368,  372,  470,  506,  604, 1136, 1158, 1242, 1244,\n",
       "       2368, 2486, 1105, 1106, 1113, 1115, 1132, 1155, 1166, 2488, 1400,\n",
       "       1033,    4,    8,   26,   22, 1927, 7721,  591, 8519, 8525, 8541,\n",
       "       8542, 9622,  356, 1138, 1148, 1041,    6,   32,   50,   52,   86,\n",
       "         88, 9301, 9303,   47,   60, 1234, 1250, 1241, 1034, 1035, 1043,\n",
       "       7704,   10,  253, 1502, 8083, 8131, 9851,   27,  543, 1198,   39,\n",
       "         87,  390,  448,  664,  805, 1054, 1065, 1116, 1121, 1146, 1154,\n",
       "       1188, 1193, 1218, 1222, 1224, 1226, 1228, 1235, 1237, 1249, 1260,\n",
       "       1262, 1264, 1428, 7896, 7899, 1142, 1240, 2600,   30, 2092, 2093,\n",
       "       3624, 9643, 9461, 9510, 9540,  706, 1088, 1091, 1099, 1134, 1169,\n",
       "       1170, 1195, 1199, 1243, 1251, 1257, 1277, 1279, 1233,   54, 1600,\n",
       "       2287, 4118, 9289,   85,  555,  620,  630, 1149, 1503, 1531,  232,\n",
       "        755,  757,  763, 1117, 1141, 1176, 1178, 1186, 1191, 1197, 1246,\n",
       "       1247, 1259, 1267, 1269, 7911,  255,  301,  305,  307])"
      ]
     },
     "execution_count": 7,
     "metadata": {},
     "output_type": "execute_result"
    }
   ],
   "source": [
    "df[\"Vlo-I\"] = df[\"Vlo-I\"].astype(str).apply(lambda x: re.findall(r'\\d+', x)[0] ).astype(int)\n",
    "df[\"Vlo-I\"].unique()"
   ]
  },
  {
   "cell_type": "code",
   "execution_count": 8,
   "metadata": {},
   "outputs": [
    {
     "name": "stdout",
     "output_type": "stream",
     "text": [
      "['R', 'n', 'A', 'B', 'P', 'a']\n"
     ]
    }
   ],
   "source": [
    "characters = pd.Series(list( \"\".join(df[\"Vlo-O\"].astype(str).unique().tolist() ))).value_counts().index.tolist()\n",
    "my_characters = ['0', '1', '2', '3', '4', '5', '6', '7', '8', '9', '.']\n",
    "for x in my_characters:\n",
    "    characters.remove(x)\n",
    "print(characters)"
   ]
  },
  {
   "cell_type": "code",
   "execution_count": 9,
   "metadata": {},
   "outputs": [],
   "source": [
    "def clean_Vlo_O(x):\n",
    "    x = str(x)\n",
    "    for c in characters:\n",
    "        x = x.replace(c, \"\")\n",
    "    if x == \"\":\n",
    "        return -999\n",
    "    return int(float(x))"
   ]
  },
  {
   "cell_type": "code",
   "execution_count": 10,
   "metadata": {},
   "outputs": [],
   "source": [
    "df[\"Vlo-O\"] = df[\"Vlo-O\"].apply(lambda x: clean_Vlo_O(x) )"
   ]
  },
  {
   "cell_type": "code",
   "execution_count": 11,
   "metadata": {},
   "outputs": [
    {
     "data": {
      "text/html": [
       "<div>\n",
       "<style scoped>\n",
       "    .dataframe tbody tr th:only-of-type {\n",
       "        vertical-align: middle;\n",
       "    }\n",
       "\n",
       "    .dataframe tbody tr th {\n",
       "        vertical-align: top;\n",
       "    }\n",
       "\n",
       "    .dataframe thead th {\n",
       "        text-align: right;\n",
       "    }\n",
       "</style>\n",
       "<table border=\"1\" class=\"dataframe\">\n",
       "  <thead>\n",
       "    <tr style=\"text-align: right;\">\n",
       "      <th></th>\n",
       "      <th>Fecha-I</th>\n",
       "      <th>Vlo-I</th>\n",
       "      <th>Ori-I</th>\n",
       "      <th>Des-I</th>\n",
       "      <th>Emp-I</th>\n",
       "      <th>Fecha-O</th>\n",
       "      <th>Vlo-O</th>\n",
       "      <th>Ori-O</th>\n",
       "      <th>Des-O</th>\n",
       "      <th>Emp-O</th>\n",
       "      <th>DIA</th>\n",
       "      <th>MES</th>\n",
       "      <th>AÑO</th>\n",
       "      <th>DIANOM</th>\n",
       "      <th>TIPOVUELO</th>\n",
       "      <th>OPERA</th>\n",
       "      <th>SIGLAORI</th>\n",
       "      <th>SIGLADES</th>\n",
       "    </tr>\n",
       "  </thead>\n",
       "  <tbody>\n",
       "    <tr>\n",
       "      <th>6068</th>\n",
       "      <td>2017-01-19 11:00:00</td>\n",
       "      <td>200</td>\n",
       "      <td>SCEL</td>\n",
       "      <td>SPJC</td>\n",
       "      <td>LAW</td>\n",
       "      <td>2017-01-19 11:03:00</td>\n",
       "      <td>-999</td>\n",
       "      <td>SCEL</td>\n",
       "      <td>SPJC</td>\n",
       "      <td>56R</td>\n",
       "      <td>19</td>\n",
       "      <td>1</td>\n",
       "      <td>2017</td>\n",
       "      <td>Jueves</td>\n",
       "      <td>I</td>\n",
       "      <td>Latin American Wings</td>\n",
       "      <td>Santiago</td>\n",
       "      <td>Lima</td>\n",
       "    </tr>\n",
       "  </tbody>\n",
       "</table>\n",
       "</div>"
      ],
      "text/plain": [
       "                 Fecha-I  Vlo-I Ori-I Des-I Emp-I             Fecha-O  Vlo-O  \\\n",
       "6068 2017-01-19 11:00:00    200  SCEL  SPJC   LAW 2017-01-19 11:03:00   -999   \n",
       "\n",
       "     Ori-O Des-O Emp-O  DIA  MES   AÑO  DIANOM TIPOVUELO  \\\n",
       "6068  SCEL  SPJC   56R   19    1  2017  Jueves         I   \n",
       "\n",
       "                     OPERA  SIGLAORI SIGLADES  \n",
       "6068  Latin American Wings  Santiago     Lima  "
      ]
     },
     "execution_count": 11,
     "metadata": {},
     "output_type": "execute_result"
    }
   ],
   "source": [
    "df [df[\"Vlo-O\"]== -999]"
   ]
  },
  {
   "cell_type": "code",
   "execution_count": 12,
   "metadata": {},
   "outputs": [],
   "source": [
    "# Fuera valor sin \"Vlo-O\"\n",
    "df = df [df[\"Vlo-O\"] != -999]\n",
    "\n",
    "# Fuera valores de 2018\n",
    "df = df [df[\"AÑO\"] == 2017]\n",
    "\n",
    "df.to_csv(\"data/dataset_SCL_silver.csv\", index=False)"
   ]
  }
 ],
 "metadata": {
  "kernelspec": {
   "display_name": "base",
   "language": "python",
   "name": "python3"
  },
  "language_info": {
   "codemirror_mode": {
    "name": "ipython",
    "version": 3
   },
   "file_extension": ".py",
   "mimetype": "text/x-python",
   "name": "python",
   "nbconvert_exporter": "python",
   "pygments_lexer": "ipython3",
   "version": "3.8.5"
  },
  "orig_nbformat": 4,
  "vscode": {
   "interpreter": {
    "hash": "290a0437a5503a70b5074cc0968a0efcb1f357d9f757b8a173cff144f7201fe5"
   }
  }
 },
 "nbformat": 4,
 "nbformat_minor": 2
}
